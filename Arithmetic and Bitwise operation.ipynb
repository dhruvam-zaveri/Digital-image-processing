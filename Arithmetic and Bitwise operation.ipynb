{
 "cells": [
  {
   "cell_type": "code",
   "execution_count": 6,
   "metadata": {},
   "outputs": [],
   "source": [
    "import cv2\n",
    "import numpy as np\n",
    "\n",
    "img = cv2.imread('image.jpg')\n",
    "cv2.imshow('image', img)\n",
    "cv2.waitKey(0)\n",
    "cv2.destroyAllWindows()\n",
    "\n",
    "height, width = img.shape[:2]"
   ]
  },
  {
   "cell_type": "markdown",
   "metadata": {},
   "source": [
    "# Arithmetic operation\n",
    "\n",
    "## Image Addition\n",
    "\n",
    "You can add two images by\n",
    "1. cv2.add()\n",
    "- numpy operation, res = img1 + img2. \n",
    "\n",
    "Both images should be of same shape and type, or second image can just be a scalar value.\n",
    "\n",
    "### cv2.add(image1, image2 or scalar matrices of same size)\n",
    "\n",
    "Addition brightens the image "
   ]
  },
  {
   "cell_type": "code",
   "execution_count": 7,
   "metadata": {},
   "outputs": [],
   "source": [
    "# we can also take another image as 2nd arguement\n",
    "M = np.ones(img.shape, dtype='uint8') * 75\n",
    "\n",
    "res = cv2.add(img, M)\n",
    "cv2.imshow('Brightened image using cv2.add()', res)\n",
    "cv2.waitKey(0)\n",
    "\n",
    "res = img + M\n",
    "cv2.imshow('Brightened image using numpy operator \\'+\\'', res)\n",
    "cv2.waitKey(0)\n",
    "\n",
    "cv2.destroyAllWindows()"
   ]
  },
  {
   "cell_type": "markdown",
   "metadata": {},
   "source": [
    "## Image Blending\n",
    "\n",
    "This is also image addition, but different weights are given to images so that it gives a feeling of blending or transparency. Images are added as per the equation below:\n",
    "\n",
    "$$g(x) = (1-\\alpha)f_0(x) + \\alpha f_1(x)$$\n",
    "\n",
    "Here g(x) is the output image,\n",
    "\n",
    "$f_0$(x) is the input image 1,\n",
    "\n",
    "$f_1$(x) is the input image 2,\n",
    "\n",
    "By varying $\\alpha$ from 0 $\\rightarrow$ 1, you can perform transition between one image to another.\n",
    "\n",
    "<img src = 'https://opencv-python-tutroals.readthedocs.io/en/latest/_images/blending.jpg'>\n",
    "\n",
    "Image blending can be done by,\n",
    "\n",
    "1. cv2.add(), here the input images should be multipled with (1 - $\\alpha$) and $\\alpha$ respectively.\n",
    "- cv2.addWeighted(), but here the formula will become,\n",
    "\n",
    "$$g(x) = \\alpha f_0(x) + \\beta f_1(x) + \\gamma$$ \n",
    "\n",
    "### cv2.addWeighted(img1, wt1, img2, wt2, gammaValue)\n",
    "\n",
    "- img1: First Input Image array(Single-channel, 8-bit or floating-point)\n",
    "- wt1: Weight of the first input image elements to be applied to the final image\n",
    "- img2: Second Input Image array(Single-channel, 8-bit or floating-point)\n",
    "- wt2: Weight of the second input image elements to be applied to the final image\n",
    "- gammaValue: Measurement of light\n"
   ]
  },
  {
   "cell_type": "code",
   "execution_count": 8,
   "metadata": {},
   "outputs": [],
   "source": [
    "alpha = 0.7 \n",
    "img1 = cv2.resize(cv2.imread('image.jpg'), (500,500))\n",
    "img2 = cv2.resize(cv2.imread('bw_image.jpg'), (500,500))\n",
    "\n",
    "img_1 = (1-alpha)*img1\n",
    "img_1 = np.array(img_1, np.uint8)\n",
    "\n",
    "img_2 = alpha*img2\n",
    "img_2 = np.array(img_2, np.uint8)\n",
    "\n",
    "res = cv2.add(img_1,img_2)\n",
    "cv2.imshow('Blending images using cv2.add()', res)\n",
    "cv2.waitKey(0) \n",
    "\n",
    "res = cv2.addWeighted(img_1, (1-alpha), img_2, alpha, 0)\n",
    "cv2.imshow('Blending images using cv2.addWeighted()', res)\n",
    "cv2.waitKey(0) \n",
    "\n",
    "cv2.destroyAllWindows()"
   ]
  },
  {
   "cell_type": "markdown",
   "metadata": {},
   "source": [
    "## Image subtraction\n",
    "\n",
    "Just like addition, we can subtract the pixel values in two images and merge them with the help of cv2.subtract(). The images should be of equal size and depth. It darkens the image.\n",
    "\n",
    "1. cv2.subtract()\n",
    "- numpy operation, res = img1 - img2.\n",
    "\n",
    "### cv2.subtract(src1, src2)\n",
    "\n",
    "scr1 and src2 can be images or scaler matrices\n",
    "\n",
    "**Note:** when used with RGBA images, the alpha channel is also subtracted."
   ]
  },
  {
   "cell_type": "code",
   "execution_count": 9,
   "metadata": {},
   "outputs": [],
   "source": [
    "res = cv2.subtract(img, M)\n",
    "cv2.imshow('Subracted image', res)\n",
    "cv2.waitKey(0) \n",
    "cv2.destroyAllWindows()"
   ]
  },
  {
   "cell_type": "markdown",
   "metadata": {},
   "source": [
    "# Bitwise operation\n",
    "\n",
    "This includes the bitwise AND, OR, NOT, and XOR operations. They will be highly useful while extracting any part of the image, defining and working with non-rectangular ROI's, and etc.\n",
    "\n",
    "### cv2.bitwise_and(source1, source2, destination, mask)\n",
    "\n",
    "### cv2.bitwise_or(source1, source2, destination, mask)\n",
    "\n",
    "### cv2.bitwise_xor(source1, source2, destination, mask)\n",
    "\n",
    "### cv2.bitwise_not(source, destination, mask)\n",
    "\n",
    "- source1: First Input Image array(Single-channel, 8-bit or floating-point)\n",
    "- source2: Second Input Image array(Single-channel, 8-bit or floating-point)\n",
    "- dest: Output array (Similar to the dimensions and type of Input image array)\n",
    "- mask: Operation mask, Input / output 8-bit single-channel mask"
   ]
  },
  {
   "cell_type": "code",
   "execution_count": 10,
   "metadata": {},
   "outputs": [],
   "source": [
    "M = np.zeros(img.shape, dtype='uint8')\n",
    "cv2.rectangle(M, (50, 50), (200, 200), (255,255,255), -1)\n",
    "\n",
    "N = np.zeros(img.shape, dtype='uint8')\n",
    "cv2.rectangle(N, (75, 50), (250, 200), (255,255,255), -1)\n",
    "\n",
    "cv2.imshow('image 1', M)\n",
    "cv2.waitKey(0)\n",
    "\n",
    "cv2.imshow('image 2', N)\n",
    "cv2.waitKey(0)\n",
    "\n",
    "res = cv2.bitwise_and(M, N)\n",
    "cv2.imshow('AND image', res)\n",
    "cv2.waitKey(0) \n",
    "\n",
    "res = cv2.bitwise_or(M, N)\n",
    "cv2.imshow('OR image', res)\n",
    "cv2.waitKey(0) \n",
    "\n",
    "res = cv2.bitwise_xor(M, N)\n",
    "cv2.imshow('XOR image', res)\n",
    "cv2.waitKey(0) \n",
    "\n",
    "res = cv2.bitwise_not(M)\n",
    "cv2.imshow('NOT image', res)\n",
    "cv2.waitKey(0) \n",
    "\n",
    "cv2.destroyAllWindows()"
   ]
  }
 ],
 "metadata": {
  "kernelspec": {
   "display_name": "Python 3",
   "language": "python",
   "name": "python3"
  },
  "language_info": {
   "codemirror_mode": {
    "name": "ipython",
    "version": 3
   },
   "file_extension": ".py",
   "mimetype": "text/x-python",
   "name": "python",
   "nbconvert_exporter": "python",
   "pygments_lexer": "ipython3",
   "version": "3.7.6"
  }
 },
 "nbformat": 4,
 "nbformat_minor": 4
}
