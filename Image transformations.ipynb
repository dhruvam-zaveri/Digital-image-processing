{
 "cells": [
  {
   "cell_type": "code",
   "execution_count": 1,
   "metadata": {},
   "outputs": [],
   "source": [
    "import cv2\n",
    "import numpy as np"
   ]
  },
  {
   "cell_type": "markdown",
   "metadata": {},
   "source": [
    "# Transformation\n",
    "\n",
    "Transformations are geometric distortions applied on an image. These distortions can be as simple as rotaion, scaling, cropping, etc. Transformation is done to remove perspective issues or correct distortions from an image.\n",
    "\n",
    "Types of transformations are:\n",
    "1. Affine Transformation<br>\n",
    "2. Non-affine Transformation\n",
    "\n",
    "## Affine transformation\n",
    "\n",
    "An affine transformation is any transformation that preserves collinearity (i.e., all points lying on a line initially still lie on a line after transformation) and ratios of distances (e.g., the midpoint of a line segment remains the midpoint after transformation).\n",
    "\n",
    "While an affine transformation preserves proportions on lines, it does not necessarily preserve angles or lengths. Any triangle can be transformed into any other by an affine transformation, so all triangles are affine and, in this sense, affine is a generalization of congruent and similar.\n",
    "\n",
    "In Affine transformation, all parallel lines in the original image will still be parallel in the output image.\n",
    "\n",
    "Affine Transform\tExample\tTransformation Matrix\n",
    "- Translation\n",
    "\n",
    "\\begin{bmatrix}1 & 0 & 0\\\\0 & 1 & 0\\\\ t_x & t_y & 1\\end{bmatrix}\n",
    "\n",
    "tx specifies the displacement along the x axis\n",
    "\n",
    "ty specifies the displacement along the y axis.\n",
    "\n",
    "- Scale\n",
    "\n",
    "\\begin{bmatrix}s_x & 0 & 0\\\\0 & s_y & 0\\\\ 0 & 0 & 1\\end{bmatrix}\n",
    "sx specifies the scale factor along the x axis\n",
    "\n",
    "sy specifies the scale factor along the y axis.\n",
    "\n",
    "- Shear\n",
    "\\begin{bmatrix}1 & sh_y & 0\\\\sh_x & 1 & 0\\\\ 0 & 0 & 1\\end{bmatrix}\n",
    "\n",
    "shx specifies the shear factor along the x axis\n",
    "\n",
    "shy specifies the shear factor along the y axis.\n",
    "\n",
    "- Rotation\n",
    "\\begin{bmatrix}\\cos(q) & \\sin(q) & 0\\\\-\\sin(q) & \\cos(q) & 0\\\\ 0 & 0 & 1\\end{bmatrix}\n",
    "\n",
    "q specifies the angle of rotation\n",
    "\n",
    "## Translations: moving images up, down, left & right\n",
    "\n",
    "### cv2.warpAffine(src, M, dsize)\n",
    "\n",
    "- src : source image.\n",
    "- M : Translation matrix.\n",
    "- dsize : size of the output image, it is a tuple denoting height and width (height, width).\n",
    "\n",
    "To apply any type of transformation on an image we need to define that transformation in terms of a mathematical formula,\n",
    "\n",
    "\\text{T = M $\\cdot\\begin{bmatrix} x & y & 1\\end{bmatrix}^{T}$}\n",
    "\n",
    "Where, T is the output image's pixel on (x,y), M is the Translation matrix and (x,y) the pixel cordinates of input image.\n",
    "\n",
    "$$\\text{M = $\\begin{bmatrix} 1 & 0 & T_x \\\\ 0 & 1 & T_y \\end{bmatrix}$}$$\n",
    "\n",
    "$T_{x}$ = shift along x-axis (horizontal)<br>$T_{y}$ = shift along y-axis (vertical)"
   ]
  },
  {
   "cell_type": "code",
   "execution_count": 2,
   "metadata": {},
   "outputs": [],
   "source": [
    "img = cv2.imread('image.jpg')\n",
    "cv2.imshow('image', img)\n",
    "cv2.waitKey(0)\n",
    "cv2.destroyAllWindows()\n",
    "\n",
    "height, width = img.shape[:2]"
   ]
  },
  {
   "cell_type": "code",
   "execution_count": 3,
   "metadata": {},
   "outputs": [],
   "source": [
    "M = np.float32([[1, 0, height/10], [0, 1, width/10]])\n",
    "\n",
    "img_translation = cv2.warpAffine(img, M, (height, width))\n",
    "cv2.imshow('Translated image', img_translation)\n",
    "cv2.waitKey(0)\n",
    "cv2.destroyAllWindows()"
   ]
  },
  {
   "cell_type": "markdown",
   "metadata": {},
   "source": [
    "## Rotations\n",
    "\n",
    "### cv2.warpAffine(src, M, dsize)\n",
    "\n",
    "- src : source image.\n",
    "- M : Rotation matrix.\n",
    "- dsize : size of the output image, it is a tuple denoting height and width (height, width).\n",
    "\n",
    "$$\\text{M = $\\begin{bmatrix} \\cos(\\theta) & -\\sin(\\theta) \\\\ \\sin(\\theta) & \\cos(\\theta) \\end{bmatrix}$}$$\n",
    "\n",
    "Rotation matrix can be generated with function,\n",
    "\n",
    "### cv2.getRotationMatrix2D(center, angle, scale)\n",
    "\n",
    "- center : it is a tuple denoting center of the rotation in the source image.\n",
    "- angle : Rotation angle in degrees. Positive values mean counter-clockwise rotation (the coordinate origin is assumed to be the top-left corner).\n",
    "- scale : Isotropic scale factor.\n",
    "\n",
    "cv2.getRotationMatrix2D() function does scalling and rotation at the same time."
   ]
  },
  {
   "cell_type": "code",
   "execution_count": 4,
   "metadata": {},
   "outputs": [],
   "source": [
    "M = cv2.getRotationMatrix2D((height/2, width/2), 90, 1)\n",
    "rotated_img = cv2.warpAffine(img, M, (height, width))\n",
    "\n",
    "cv2.imshow('Rotated image', rotated_img)\n",
    "cv2.waitKey(0)\n",
    "cv2.destroyAllWindows()"
   ]
  },
  {
   "cell_type": "markdown",
   "metadata": {},
   "source": [
    "## Resizing\n",
    "\n",
    "Image resizing refers to the scaling of images.It helps in reducing the number of pixels from an image and that has several advantages e.g. It can reduce the time of training of a neural network as more is the number of pixels in an image more is the number of input nodes that in turn increases the complexity of the model.\n",
    "\n",
    "It also helps in zooming in images. Many times we need to resize the image i.e. either shirk it or scale up to meet the size requirements. OpenCV provides us several interpolation methods for resizing an image. For resizing we have 2 methods:\n",
    "\n",
    "### Method 1 : cv2.resize(src, dsize, fx, fy, interpolation)\n",
    "\n",
    "- src : source/input image.\n",
    "- dsize : a tuple denoting custom height and width of the output image.\n",
    "- fx : scale factor along the horizontal axis.\n",
    "- fy : scale factor along the vertical axis.\n",
    "- interpolation : sets the type of interpolation technique to be used while resizing.\n",
    "\n",
    "Choice of Interpolation Method for Resizing –\n",
    "\n",
    "- cv2.INTER_AREA: This is used when we need need to shrink an image.\n",
    "- cv2.INTER_CUBIC: This is slow but more efficient, uses 4x4 neighborhood.\n",
    "- cv2.INTER_LINEAR: This is primarily used when zooming is required. This is the default interpolation technique in OpenCV.\n",
    "- cv2.INTER_NEAREST: a nearest-neighbor interpolation.\n",
    "- cv2.INTER_AREA: resampling using pixel area relation. It may be a preferred method for image decimation, as it gives moire’-free results. But when the image is zoomed, it is similar to the cv2.INTER_NEAREST method.\n",
    "- cv2.INTER_LANCZOS4 – a Lanczos interpolation over 8×8 pixel neighborhood\n",
    "\n",
    "Image interpolation occurs when you resize or distort your image from one pixel grid to another. Image resizing is necessary when you need to increase or decrease the total number of pixels, whereas remapping can occur when you are correcting for lens distortion or rotating an image. Zooming refers to increase the quantity of pixels, so that when you zoom an image, you will see more detail.\n",
    "\n",
    "Interpolation works by using known data to estimate values at unknown points. Image interpolation works in two directions, and tries to achieve a best approximation of a pixel's intensity based on the values at surrounding pixels.\n",
    "\n",
    "**Note:** while using cv2.resize() if fx and fy are given same value then they will preserve the aspect ratio of the image, otherwise the aspect ratio will change, the same will happen when we give dsize parameter.\n",
    "\n",
    "**Note:** when both dsize and fx, fy are given dsize will be given priority."
   ]
  },
  {
   "cell_type": "code",
   "execution_count": 5,
   "metadata": {},
   "outputs": [],
   "source": [
    "resize_img = cv2.resize(img, None, fx = 0.5, fy = 0.5)\n",
    "cv2.imshow('Resized image: fx, fy', resize_img)\n",
    "cv2.waitKey(0)\n",
    "\n",
    "resize_img_2 = cv2.resize(img, (500,500))\n",
    "cv2.imshow('Resized image: dsize', resize_img_2)\n",
    "cv2.waitKey(0)\n",
    "\n",
    "resize_img_3 = cv2.resize(img, (500,500), fx = 0.5, fy = 0.5)\n",
    "cv2.imshow('Priority is given to dsize', resize_img_3)\n",
    "cv2.waitKey(0)\n",
    "\n",
    "resize_img = cv2.resize(img, None, fx = 1.25, fy = 1.25, interpolation = cv2.INTER_CUBIC)\n",
    "cv2.imshow('Resized image: giving cv2.INTER_CUBIC interpolation', resize_img)\n",
    "cv2.waitKey(0)\n",
    "\n",
    "cv2.destroyAllWindows()"
   ]
  },
  {
   "cell_type": "markdown",
   "metadata": {},
   "source": [
    "### Method 2 : Image pyramid\n",
    "\n",
    "Image Pyramids are one of the most beautiful concept of image processing.Normally, we work with images with default resolution but many times we need to change the resolution (lower it) or resize the original image in that case image pyramids comes handy.\n",
    "\n",
    "We use 2 functions cv2.pyrUp() and cv2.pyrDown(). \n",
    "\n",
    "cv2.pyrUp() scales the image to twice its current size and cv2.pyrDown() scales the image to half its current size.\n",
    "\n",
    "### cv2.pyrUp(src)\n",
    "\n",
    "### cv2.pyrDown(src)\n",
    "\n",
    "- src : input image.\n",
    "\n",
    "**Note:** Once we scale down and if we rescale it to the original size, we lose some information and the resolution of the new image is much lower than the original one.\n",
    "\n",
    "If we keep the original image as a base image and go on applying pyrDown function on it and keep the images in a vertical stack, it will look like a pyramid. The same is true for upscaling the original image by pyrUp function.\n",
    "\n",
    "<img src='https://media.geeksforgeeks.org/wp-content/uploads/20190516134057/Pyramids.png'>"
   ]
  },
  {
   "cell_type": "code",
   "execution_count": 6,
   "metadata": {},
   "outputs": [],
   "source": [
    "down_scale = cv2.pyrDown(img)\n",
    "cv2.imshow('Scaled down image', down_scale)\n",
    "cv2.waitKey(0)\n",
    "\n",
    "up_scale = cv2.pyrUp(img)\n",
    "cv2.imshow('Scaled up image', up_scale)\n",
    "cv2.waitKey(0)\n",
    "\n",
    "cv2.destroyAllWindows()"
   ]
  },
  {
   "cell_type": "markdown",
   "metadata": {},
   "source": [
    "## Cropping \n",
    "\n",
    "cv2 does not provide direct method to crop images, but we can crop images using numpy and index slicing.\n",
    "\n",
    "Make sure that the slicing indecies are integer."
   ]
  },
  {
   "cell_type": "code",
   "execution_count": 7,
   "metadata": {},
   "outputs": [],
   "source": [
    "start_row = int(width * 0.25)\n",
    "end_row = int(width * 0.75)\n",
    "\n",
    "start_col = int(height * 0.25)\n",
    "end_col = int(height * 0.75)\n",
    "\n",
    "cropped_img = img[start_row:end_row, start_col:end_col]\n",
    "cv2.imshow('Cropped image', cropped_img)\n",
    "cv2.waitKey(0)\n",
    "\n",
    "cv2.destroyAllWindows()"
   ]
  }
 ],
 "metadata": {
  "kernelspec": {
   "display_name": "Python 3",
   "language": "python",
   "name": "python3"
  },
  "language_info": {
   "codemirror_mode": {
    "name": "ipython",
    "version": 3
   },
   "file_extension": ".py",
   "mimetype": "text/x-python",
   "name": "python",
   "nbconvert_exporter": "python",
   "pygments_lexer": "ipython3",
   "version": "3.7.6"
  }
 },
 "nbformat": 4,
 "nbformat_minor": 4
}
