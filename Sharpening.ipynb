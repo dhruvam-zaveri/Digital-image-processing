{
 "cells": [
  {
   "cell_type": "code",
   "execution_count": 3,
   "metadata": {},
   "outputs": [],
   "source": [
    "import cv2\n",
    "import numpy as np\n",
    "\n",
    "img = cv2.imread('image.jpg')\n",
    "cv2.imshow('image', img)\n",
    "cv2.waitKey(0)\n",
    "cv2.destroyAllWindows()\n",
    "\n",
    "height, width = img.shape[:2]"
   ]
  },
  {
   "cell_type": "markdown",
   "metadata": {},
   "source": [
    "# Image sharpening\n",
    "\n",
    "It is opposite of blurring, it strenghtens the edges in an image. In sharpening we are also going to use convolution but the arrangement of our kernal matrix will be a little bit different,\n",
    "\n",
    "$$K = \\begin{bmatrix} -1 & -1 & -1 \\\\ -1 & 9 & -1 \\\\ -1 & -1 & -1 \\end{bmatrix}$$\n",
    "\n",
    "Our kernel matrix sums to one, so we don't need to normalize it i.e. divide it by the sum of values in matrix. We will be using,\n",
    "\n",
    "### cv2.filter2D(src, ddepth, kernel, dst, anchor, delta, borderType)\n",
    "\n",
    "- src : input image.\n",
    "- dst : output image of the same size and the same number of channels as src.\n",
    "- ddepth : desired depth of the destination image.\n",
    "- kernel : convolution kernel (or rather a correlation kernel), a single-channel floating point matrix; if you want to apply different kernels to different channels, split the image into separate color planes using split and process them individually.\n",
    "- anchor : anchor of the kernel that indicates the relative position of a filtered point within the kernel; the anchor should lie within the kernel; default value (-1,-1) means that the anchor is at the kernel center.\n",
    "- delta\toptional value added to the filtered pixels before storing them in dst.\n",
    "- borderType : pixel extrapolation method\n",
    "\n",
    "**Note:** when ddepth=-1, the output image will have the same depth as the source."
   ]
  },
  {
   "cell_type": "code",
   "execution_count": 4,
   "metadata": {},
   "outputs": [],
   "source": [
    "kernel = np.array([[-1,-1,-1], [-1, 9,-1], [-1,-1,-1]])\n",
    "\n",
    "sharp_img = cv2.filter2D(img, -1,kernel)\n",
    "cv2.imshow('Sharpened image', sharp_img)\n",
    "cv2.waitKey(0)\n",
    "\n",
    "cv2.destroyAllWindows()"
   ]
  }
 ],
 "metadata": {
  "kernelspec": {
   "display_name": "Python 3",
   "language": "python",
   "name": "python3"
  },
  "language_info": {
   "codemirror_mode": {
    "name": "ipython",
    "version": 3
   },
   "file_extension": ".py",
   "mimetype": "text/x-python",
   "name": "python",
   "nbconvert_exporter": "python",
   "pygments_lexer": "ipython3",
   "version": "3.7.6"
  }
 },
 "nbformat": 4,
 "nbformat_minor": 4
}
