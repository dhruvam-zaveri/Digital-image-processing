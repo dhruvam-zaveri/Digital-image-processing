{
 "cells": [
  {
   "cell_type": "code",
   "execution_count": 1,
   "metadata": {},
   "outputs": [],
   "source": [
    "import cv2\n",
    "import numpy as np\n",
    "\n",
    "img = cv2.imread('image.jpg')\n",
    "cv2.imshow('image', img)\n",
    "cv2.waitKey(0)\n",
    "cv2.destroyAllWindows()\n",
    "\n",
    "height, width = img.shape[:2]"
   ]
  },
  {
   "cell_type": "markdown",
   "metadata": {},
   "source": [
    "# Image blurring (image filtering)\n",
    "\n",
    "Images can be filtered with various low-pass filters (LPF), high-pass filters (HPF), etc. LPF helps in removing noise, blurring images, etc. HPF filters help in finding edges in images.\n",
    "\n",
    "Image blurring is achieved by convolving the image with a low-pass filter kernel. It is useful for removing noise. It actually removes high frequency content (eg: noise, edges) from the image. So edges are blurred a little bit in this operation (there are also blurring techniques which don't blur the edges). OpenCV provides four main types of blurring techniques.\n",
    "\n",
    "Convolution is a matheatical operation that takes 2 or more functions as input and produces a function as output. For image blurring we will be taking 2 functions as input and a 3rd function will be generated, the input funtions are: \n",
    "- The source image (src parameter).\n",
    "- The function which will be dependent on the size of kernal (ksize parameter). \n",
    "\n",
    "The output function will be our output image or blurred image. So our formula will be,\n",
    "\n",
    "$$\\text{Output image = Source image $\\oplus$ $Function_\\text{kernel size}$}$$\n",
    "\n",
    "Kernel is the similar to neighbourhood of pixel, an image kernel is a small matrix used to apply effects.\n",
    "\n",
    "<img src='https://what-when-how.com/wp-content/uploads/2011/09/tmp6137_thumb.jpg' height='50%' width='50%'>\n",
    "\n",
    "As shown in above given image a kernel of size 3x3 is given for pixel at position (i,j), the 3x3 matrix shown is taken as input of $Function_\\text{kernel size}$ and some operations are performed on it and a single pixel is given as output which is placed in the position where the center of 3x3 kenel is in the source image, .i.e. (i,j) for the above image.\n",
    "\n",
    "## 1. Averaging\n",
    "This is done by convolving an image with a normalized box filter. It simply takes the average of all the pixels under the kernel area and replaces the central element. The function smooths an image using the kernel:\n",
    "\n",
    "$$\\text{K} = \\frac{1}{\\text{ksize.width*ksize.height}} \\begin{bmatrix} 1 & 1 & 1 & \\cdots & 1 & 1 \\\\ 1 & 1 & 1 & \\cdots & 1 & 1 \\\\ \\cdots & \\cdots & \\cdots & \\cdots & \\cdots & \\cdots\\cdots  \\\\ 1 & 1 & 1 & \\cdots & 1 & 1 \\\\ \\end{bmatrix}$$\n",
    "\n",
    "### cv.blur(src, dst, ksize, anchor, borderType)\n",
    "\n",
    "- src : input image, it can have any number of channels.\n",
    "- dst : output image of the same size and type as src.\n",
    "- ksize : kernel size, usually a tuple.\n",
    "- anchor : anchor point, default value Point(-1,-1) means that the anchor is at the kernel center.\n",
    "- borderType : border mode used to extrapolate pixels outside of the image.\n",
    "\n",
    "We should specify the width and height of the kernel. A 3x3 normalized box filter would look like the below:\n",
    "\n",
    "$$K = \\frac{1}{9} \\begin{bmatrix} 1 & 1 & 1 \\\\ 1 & 1 & 1 \\\\ 1 & 1 & 1 \\end{bmatrix}$$\n",
    "\n",
    "If you don't want to use a normalized box filter, use \n",
    "### cv.boxFilter(src, ddepth, ksize, dst, anchor, normalize, borderType)\n",
    "\n",
    "- src\tinput image.\n",
    "- dst\toutput image of the same size and type as src.\n",
    "- ddepth\tthe output image depth (-1 to use src.depth()).\n",
    "- ksize\tblurring kernel size.\n",
    "- anchor\tanchor point; default value Point(-1,-1) means that the anchor is at the kernel center.\n",
    "- normalize\tflag, specifying whether the kernel is normalized by its area or not.\n",
    "- borderType\tborder mode used to extrapolate pixels outside of the image\n",
    "\n",
    "Pass an argument normalize=False to the function. The function smooths an image using the kernel:\n",
    "\n",
    "$$\\texttt{K} = \\alpha \\begin{bmatrix} 1 & 1 & 1 & \\cdots & 1 & 1 \\\\ 1 & 1 & 1 & \\cdots & 1 & 1 \\\\ \\cdots & \\cdots & \\cdots & \\cdots & \\cdots & \\cdots\\cdots  \\\\ 1 & 1 & 1 & \\cdots & 1 & 1 \\end{bmatrix}$$\n",
    "\n",
    "where\n",
    "$$\\alpha = \\begin{cases} \\frac{1}{\\texttt{ksize.width*ksize.height}} & \\texttt{when } \\texttt{normalize=true} \\\\1 & \\texttt{otherwise}\\end{cases}$$"
   ]
  },
  {
   "cell_type": "code",
   "execution_count": 2,
   "metadata": {},
   "outputs": [],
   "source": [
    "avg_blur = cv2.blur(img, (5,5))\n",
    "cv2.imshow('Avg blurred image', avg_blur)\n",
    "cv2.waitKey(0) \n",
    "\n",
    "cv2.destroyAllWindows()"
   ]
  },
  {
   "cell_type": "markdown",
   "metadata": {},
   "source": [
    "## 2. Gaussian Blurring\n",
    "\n",
    "In this method, instead of a box filter, a Gaussian kernel is used. It is done with the function,\n",
    "\n",
    "### cv.GaussianBlur(src, ksize, sigmaX, dst, sigmaY, borderType)\n",
    "\n",
    "- src : input image, it can have any number of channels.\n",
    "- dst : output image of the same size and type as src.\n",
    "- ksize : kernel size, usually a tuple.\n",
    "- sigmaX\tGaussian kernel standard deviation in X direction.\n",
    "- sigmaY\tGaussian kernel standard deviation in Y direction.\n",
    "- borderType : border mode used to extrapolate pixels outside of the image.\n",
    "\n",
    "We should specify the width and height of the kernel which should be positive and odd. We also should specify the standard deviation in the X and Y directions, sigmaX and sigmaY respectively. If only sigmaX is specified, sigmaY is taken as the same as sigmaX. If both are given as zeros, they are calculated from the kernel size. Gaussian blurring is highly effective in removing Gaussian noise from an image.\n",
    "\n",
    "If you want, you can create a Gaussian kernel with the function, \n",
    "\n",
    "### cv.getGaussianKernel(ksize, sigma, ktype)\n",
    "\n",
    "- ksize\tAperture size. It should be odd ( ksizemod2=1 ) and positive.\n",
    "- sigma\tGaussian standard deviation. If it is non-positive, it is computed from ksize as,\n",
    "<br><br>$$sigma = 0.3*((ksize-1)*0.5 - 1) + 0.8$$<br>\n",
    "- ktype\tType of filter coefficients. It can be CV_32F or CV_64F .\n",
    "\n",
    "Gaussian blur uses a unique kernel, this kernel has higher values at center and these values decrease as we move towards the edges, such a kernel is shown below.\n",
    "\n",
    "<img src='https://i.stack.imgur.com/J0TfU.gif' height='25%' width='25%'>\n",
    "\n",
    "By using such kernel Gaussian filters can blur the image and also keep the edges preserved in the image."
   ]
  },
  {
   "cell_type": "code",
   "execution_count": 7,
   "metadata": {},
   "outputs": [
    {
     "ename": "TypeError",
     "evalue": "GaussianBlur() missing required argument 'sigmaX' (pos 3)",
     "output_type": "error",
     "traceback": [
      "\u001b[1;31m---------------------------------------------------------------------------\u001b[0m",
      "\u001b[1;31mTypeError\u001b[0m                                 Traceback (most recent call last)",
      "\u001b[1;32m<ipython-input-7-848008f7aa1a>\u001b[0m in \u001b[0;36m<module>\u001b[1;34m\u001b[0m\n\u001b[1;32m----> 1\u001b[1;33m \u001b[0mgauss_blur\u001b[0m \u001b[1;33m=\u001b[0m \u001b[0mcv2\u001b[0m\u001b[1;33m.\u001b[0m\u001b[0mGaussianBlur\u001b[0m\u001b[1;33m(\u001b[0m\u001b[0mimg\u001b[0m\u001b[1;33m,\u001b[0m \u001b[1;33m(\u001b[0m\u001b[1;36m5\u001b[0m\u001b[1;33m,\u001b[0m\u001b[1;36m5\u001b[0m\u001b[1;33m)\u001b[0m \u001b[1;33m)\u001b[0m\u001b[1;33m\u001b[0m\u001b[1;33m\u001b[0m\u001b[0m\n\u001b[0m\u001b[0;32m      2\u001b[0m \u001b[0mcv2\u001b[0m\u001b[1;33m.\u001b[0m\u001b[0mimshow\u001b[0m\u001b[1;33m(\u001b[0m\u001b[1;34m'Gaussian blurred image 1'\u001b[0m\u001b[1;33m,\u001b[0m \u001b[0mgauss_blur\u001b[0m\u001b[1;33m)\u001b[0m\u001b[1;33m\u001b[0m\u001b[1;33m\u001b[0m\u001b[0m\n\u001b[0;32m      3\u001b[0m \u001b[0mcv2\u001b[0m\u001b[1;33m.\u001b[0m\u001b[0mwaitKey\u001b[0m\u001b[1;33m(\u001b[0m\u001b[1;36m0\u001b[0m\u001b[1;33m)\u001b[0m\u001b[1;33m\u001b[0m\u001b[1;33m\u001b[0m\u001b[0m\n\u001b[0;32m      4\u001b[0m \u001b[1;33m\u001b[0m\u001b[0m\n\u001b[0;32m      5\u001b[0m \u001b[0mcv2\u001b[0m\u001b[1;33m.\u001b[0m\u001b[0mdestroyAllWindows\u001b[0m\u001b[1;33m(\u001b[0m\u001b[1;33m)\u001b[0m\u001b[1;33m\u001b[0m\u001b[1;33m\u001b[0m\u001b[0m\n",
      "\u001b[1;31mTypeError\u001b[0m: GaussianBlur() missing required argument 'sigmaX' (pos 3)"
     ]
    }
   ],
   "source": [
    "gauss_blur = cv2.GaussianBlur(img, (5,5), 0)\n",
    "cv2.imshow('Gaussian blurred image 1', gauss_blur)\n",
    "cv2.waitKey(0) \n",
    "\n",
    "cv2.destroyAllWindows()"
   ]
  },
  {
   "cell_type": "markdown",
   "metadata": {},
   "source": [
    "## 3. Median Blurring\n",
    "\n",
    "Here, the function \n",
    "\n",
    "### cv.medianBlur(src, ksize, dst) \n",
    "\n",
    "- src\tinput 1-, 3-, or 4-channel image.\n",
    "- ksize\taperture linear size; it must be odd and greater than 1, for example: 3, 5, 7 ...\n",
    "- dst\tdestination array of the same size and type as src.\n",
    "\n",
    "It takes the median of all the pixels under the kernel area and the central element is replaced with this median value. This is highly effective against salt-and-pepper noise in an image. Interestingly, in the above filters, the central element is a newly calculated value which may be a pixel value in the image or a new value. But in median blurring, the central element is always replaced by some pixel value in the image. It reduces the noise effectively. Its kernel size should be a positive odd integer."
   ]
  },
  {
   "cell_type": "code",
   "execution_count": 4,
   "metadata": {},
   "outputs": [],
   "source": [
    "median_blur = cv2.medianBlur(img, 7)\n",
    "cv2.imshow('Median blurred image', median_blur)\n",
    "cv2.waitKey(0) \n",
    "\n",
    "cv2.destroyAllWindows()"
   ]
  },
  {
   "cell_type": "markdown",
   "metadata": {},
   "source": [
    "## 4.Bilateral Blur\n",
    "\n",
    "A bilateral filter is a non-linear, edge-preserving, and noise-reducing smoothing filter for images. It replaces the intensity of each pixel with a weighted average of intensity values from nearby pixels. This weight can be based on a Gaussian distribution. Thus, sharp edges are preserved while discarding the weak ones. \n",
    "\n",
    "We already saw that a Gaussian filter takes the neighbourhood around the pixel and finds its Gaussian weighted average. This Gaussian filter is a function of space alone, that is, nearby pixels are considered while filtering. It doesn't consider whether pixels have almost the same intensity. It doesn't consider whether a pixel is an edge pixel or not. So it blurs the edges also, which we don't want to do.\n",
    "\n",
    "Bilateral filtering also takes a Gaussian filter in space, but one more Gaussian filter which is a function of pixel difference. The Gaussian function of space makes sure that only nearby pixels are considered for blurring, while the Gaussian function of intensity difference makes sure that only those pixels with similar intensities to the central pixel are considered for blurring. So it preserves the edges since pixels at edges will have large intensity variation.\n",
    "\n",
    "### cv2.bilateralFilter(src, d, sigmaColor, sigmaSpace, dst, borderType)\n",
    "\n",
    "- src : Source 1-channel or 3-channel image.\n",
    "- dst : Destination image of the same size and type as src .\n",
    "- d\t: Diameter of each pixel neighborhood that is used during filtering. If it is non-positive, it is computed from sigmaSpace.\n",
    "- sigmaColor : Filter sigma in the color space. A larger value of the parameter means that farther colors within the pixel neighborhood (see sigmaSpace) will be mixed together, resulting in larger areas of semi-equal color.\n",
    "- sigmaSpace : Filter sigma in the coordinate space. A larger value of the parameter means that farther pixels will influence each other as long as their colors are close enough (see sigmaColor ). When d>0, it specifies the neighborhood size regardless of sigmaSpace. Otherwise, d is proportional to sigmaSpace.\n",
    "- borderType : border mode used to extrapolate pixels outside of the image.\n",
    "\n",
    "Sigma values: For simplicity, you can set the 2 sigma values to be the same. If they are small (< 10), the filter will not have much effect, whereas if they are large (> 150), they will have a very strong effect, making the image look \"cartoonish\".\n",
    "\n",
    "Filter size: Large filters (d > 5) are very slow, so it is recommended to use d=5 for real-time applications, and perhaps d=9 for offline applications that need heavy noise filtering."
   ]
  },
  {
   "cell_type": "code",
   "execution_count": 5,
   "metadata": {},
   "outputs": [],
   "source": [
    "bilateral_blur = cv2.bilateralFilter(img, 21, 95, 95)\n",
    "cv2.imshow('Bilateral blurred image', bilateral_blur)\n",
    "cv2.waitKey(0)\n",
    "\n",
    "cv2.destroyAllWindows()"
   ]
  },
  {
   "cell_type": "code",
   "execution_count": null,
   "metadata": {},
   "outputs": [],
   "source": []
  }
 ],
 "metadata": {
  "kernelspec": {
   "display_name": "Python 3",
   "language": "python",
   "name": "python3"
  },
  "language_info": {
   "codemirror_mode": {
    "name": "ipython",
    "version": 3
   },
   "file_extension": ".py",
   "mimetype": "text/x-python",
   "name": "python",
   "nbconvert_exporter": "python",
   "pygments_lexer": "ipython3",
   "version": "3.7.6"
  }
 },
 "nbformat": 4,
 "nbformat_minor": 4
}
