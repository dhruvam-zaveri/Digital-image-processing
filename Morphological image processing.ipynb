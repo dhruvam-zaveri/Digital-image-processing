{
 "cells": [
  {
   "cell_type": "code",
   "execution_count": 1,
   "metadata": {},
   "outputs": [],
   "source": [
    "import cv2\n",
    "import numpy as np"
   ]
  },
  {
   "cell_type": "markdown",
   "metadata": {},
   "source": [
    "# Morphological image processing\n",
    "\n",
    "Morphological image processing is a broad set of image processing operations that process images based on shapes. Morphological operations apply a structuring element to an input image, creating an output image of the same size. In a morphological operation, the value of each pixel in the output image is based on a comparison of the corresponding pixel in the input image with its neighbors.\n",
    "\n",
    "Some of the most used Morphological operations are:\n",
    "\n",
    "1. Erosion\n",
    "- Dilation\n",
    "- Opening\n",
    "- Closing\n",
    "\n",
    "Dilation adds pixels to the boundaries of objects in an image, while erosion removes pixels on object boundaries. The number of pixels added or removed from the objects in an image depends on the size and shape of the structuring element used to process the image. In the morphological dilation and erosion operations, the state of any given pixel in the output image is determined by applying a rule to the corresponding pixel and its neighbors in the input image. The rule used to process the pixels defines the operation as a dilation or an erosion.\n",
    "\n",
    "## Dilation\n",
    "\n",
    "The value of the output pixel is the maximum value of all pixels in the neighborhood. In a binary image, a pixel is set to 1 if any of the neighboring pixels have the value 1. Morphological dilation makes objects more visible and fills in small holes in objects.\n",
    "\n",
    "<img src='https://in.mathworks.com/help/images/morph_dilate.png' height='40%' width='40%'><br>\n",
    "\n",
    "### cv2.dialate(src, kernel , iterations)\n",
    "- src: It is the image which is to be eroded .\n",
    "- kernel: A structuring element used for erosion. If element = Mat(), a 3 x 3 rectangular structuring element is used. Kernel can be created using getStructuringElement.\n",
    "- iterations: It is number of times erosion is applied.\n",
    "\n",
    "## Erosion\n",
    "\n",
    "The value of the output pixel is the minimum value of all pixels in the neighborhood. In a binary image, a pixel is set to 0 if any of the neighboring pixels have the value 0. Morphological erosion removes islands and small objects so that only substantive objects remain.\n",
    "\n",
    "<img src='https://in.mathworks.com/help/images/morph_erode.png' height='40%' width='40%'><br>\n",
    "\n",
    "### cv2.erode(src, kernel , iterations)\n",
    "- src: It is the image which is to be eroded .\n",
    "- kernel: A structuring element used for erosion. If element = Mat(), a 3 x 3 rectangular structuring element is used. Kernel can be created using getStructuringElement.\n",
    "- iterations: It is number of times erosion is applied."
   ]
  },
  {
   "cell_type": "code",
   "execution_count": 2,
   "metadata": {},
   "outputs": [],
   "source": [
    "opencv_txt = cv2.resize(cv2.imread('opencv_text.jpg'), (512,256))\n",
    "opencv_txt = cv2.bitwise_not(opencv_txt)\n",
    "cv2.imshow('OpenCV text image', opencv_txt)\n",
    "cv2.waitKey(0)\n",
    "\n",
    "kernel = np.ones((5,5), np.uint8) \n",
    "\n",
    "img_erosion = cv2.erode(opencv_txt, kernel, iterations=1) \n",
    "cv2.imshow('Erosion', img_erosion) \n",
    "cv2.waitKey(0) \n",
    "\n",
    "img_dilation = cv2.dilate(opencv_txt, kernel, iterations=1) \n",
    "cv2.imshow('Dilation', img_dilation) \n",
    "cv2.waitKey(0) \n",
    "\n",
    "cv2.destroyAllWindows()"
   ]
  },
  {
   "cell_type": "markdown",
   "metadata": {},
   "source": [
    "## Opening\n",
    "\n",
    "Opening erodes an image and then dilates the eroded image, using the same structuring element for both operations. Morphological opening is useful for removing small objects from an image while preserving the shape and size of larger objects in the image.\n",
    "\n",
    "<img src='https://in.mathworks.com/help/images/morph_open.png' height='40%' width='40%'><br>\n",
    "\n",
    "## Closing\n",
    "\n",
    "Closing dilates an image and then erodes the dilated image, using the same structuring element for both operations. Morphological closing is useful for filling small holes from an image while preserving the shape and size of the objects in the image.\n",
    "\n",
    "<img src='https://in.mathworks.com/help/images/morph_close.png' height='40%' width='40%'><br>\n",
    "\n",
    "Both opening and closing can be implemented by,\n",
    "\n",
    "### cv2.morphologyEx(src, op, kernel, iterations)\n",
    "\n",
    "- src : Source image. The number of channels can be arbitrary.\n",
    "- op : Type of a morphological operation, see MorphTypes.\n",
    "- kernel : Structuring element. It can be created using cv2.getStructuringElement().\n",
    "- iterations : Number of times erosion and dilation are applied.\n",
    "\n",
    "Types of morphological operation:\n",
    "\n",
    "1. cv2.MORPH_ERODE : erosion\n",
    "- cv2.MORPH_DILATE : dilation\n",
    "- cv2.MORPH_OPEN : opening\n",
    "<br><br>$$\\texttt{dst} = \\mathrm{open} ( \\texttt{src} , \\texttt{element} )= \\mathrm{dilate} ( \\mathrm{erode} ( \\texttt{src} , \\texttt{element} ))$$<br><br>\n",
    "- cv2.MORPH_CLOSE : closing\n",
    "<br><br>$$\\texttt{dst} = \\mathrm{close} ( \\texttt{src} , \\texttt{element} )= \\mathrm{erode} ( \\mathrm{dilate} ( \\texttt{src} , \\texttt{element} ))$$<br><br>\n",
    "- cv2.MORPH_GRADIENT : a morphological gradient\n",
    "<br><br>$$\\texttt{dst} = \\mathrm{morph\\_grad} ( \\texttt{src} , \\texttt{element} )= \\mathrm{dilate} ( \\texttt{src} , \\texttt{element} )- \\mathrm{erode} ( \\texttt{src} , \\texttt{element} )$$<br><br>\n",
    "- cv2.MORPH_TOPHAT : \"top hat\"\n",
    "<br><br>$$\\texttt{dst} = \\mathrm{tophat} ( \\texttt{src} , \\texttt{element} )= \\texttt{src} - \\mathrm{open} ( \\texttt{src} , \\texttt{element} )$$<br><br>\n",
    "- cv2.MORPH_BLACKHAT : \"black hat\"\n",
    "<br><br>$$\\texttt{dst} = \\mathrm{blackhat} ( \\texttt{src} , \\texttt{element} )= \\mathrm{close} ( \\texttt{src} , \\texttt{element} )- \\texttt{src}$$<br><br>\n",
    "- cv2.MORPH_HITMISS : \"hit or miss\""
   ]
  },
  {
   "cell_type": "code",
   "execution_count": 3,
   "metadata": {},
   "outputs": [],
   "source": [
    "opening = cv2.morphologyEx(opencv_txt, cv2.MORPH_OPEN, kernel)\n",
    "cv2.imshow('Opening', opening) \n",
    "cv2.waitKey(0) \n",
    "\n",
    "closing = cv2.morphologyEx(opencv_txt, cv2.MORPH_CLOSE, kernel)\n",
    "cv2.imshow('Closing', closing) \n",
    "cv2.waitKey(0) \n",
    "\n",
    "cv2.destroyAllWindows()"
   ]
  },
  {
   "cell_type": "code",
   "execution_count": null,
   "metadata": {},
   "outputs": [],
   "source": []
  }
 ],
 "metadata": {
  "kernelspec": {
   "display_name": "Python 3",
   "language": "python",
   "name": "python3"
  },
  "language_info": {
   "codemirror_mode": {
    "name": "ipython",
    "version": 3
   },
   "file_extension": ".py",
   "mimetype": "text/x-python",
   "name": "python",
   "nbconvert_exporter": "python",
   "pygments_lexer": "ipython3",
   "version": "3.7.6"
  }
 },
 "nbformat": 4,
 "nbformat_minor": 4
}
