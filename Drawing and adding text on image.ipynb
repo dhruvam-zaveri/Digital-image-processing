{
 "cells": [
  {
   "cell_type": "code",
   "execution_count": 2,
   "metadata": {},
   "outputs": [],
   "source": [
    "import cv2 as cv\n",
    "import numpy as np"
   ]
  },
  {
   "cell_type": "markdown",
   "metadata": {},
   "source": [
    "# Drawing on images\n",
    "\n",
    "## Line\n",
    "\n",
    "### cv2.line(image, start cordinates, end cordinates, color, thickness)\n",
    "\n",
    "- image : it is the image to be drawn on.\n",
    "- start cordinates : it is a tuple denoting the starting point of line.\n",
    "- end cordinates : it is a tuple denoting the starting point of line.\n",
    "- color : it is a tuple denoting the color in BGR or gray-scale format.\n",
    "- thickness : it is the thickness of stroke."
   ]
  },
  {
   "cell_type": "code",
   "execution_count": 3,
   "metadata": {},
   "outputs": [],
   "source": [
    "# creating a black image to work with of size 512x512\n",
    "# with 1 channel i.e. grayscale image\n",
    "black_img = np.zeros(shape = (512, 512), dtype='uint8')\n",
    "cv.imshow('Black image (gray-scale)', black_img)\n",
    "\n",
    "# with 3 channels i.e. BGR image\n",
    "black_img_3 = np.zeros(shape = (512, 512, 3), dtype='uint8')\n",
    "cv.imshow('Black image with 3 channels', black_img_3)\n",
    "\n",
    "cv.waitKey(0)\n",
    "cv.destroyAllWindows()\n",
    "\n",
    "cv.line(black_img, (0, 0), (512,512), (100), 5)\n",
    "cv.imshow('Black image (gray-scale)', black_img)\n",
    "\n",
    "cv.line(black_img_3, (0, 0), (512,512), (255,0,0), 5)\n",
    "cv.imshow('Black image with 3 channels', black_img_3)\n",
    "\n",
    "cv.waitKey(0)\n",
    "cv.destroyAllWindows()"
   ]
  },
  {
   "cell_type": "markdown",
   "metadata": {},
   "source": [
    "## Rectangle\n",
    "\n",
    "### cv2.rectangle(image, top left vertex cordinates, bottom right vertex cordinates, color, thickness)\n",
    "\n",
    "- image : it is the image to be drawn on.\n",
    "- top left vertex cordinates : it is a tuple denoting the  top left vertex of rectangle.\n",
    "- bottom right vertex cordinates : it is a tuple denoting the bottom right vertex of rectangle.\n",
    "<br><br>\n",
    "$$\\text{bottom right vertex cordinates = top left vertex cordinates + height or width}$$\n",
    "<br>\n",
    "- color : it is a tuple denoting the color in BGR or gray-scale format.\n",
    "- thickness : it is the thickness of stroke, negative values denotes fill and positive denote the thickness of stroke."
   ]
  },
  {
   "cell_type": "code",
   "execution_count": 4,
   "metadata": {},
   "outputs": [],
   "source": [
    "black_img = np.zeros(shape = (512, 512), dtype='uint8')\n",
    "cv.imshow('Black image (gray-scale)', black_img)\n",
    "\n",
    "# with 3 channels i.e. BGR image\n",
    "black_img_3 = np.zeros(shape = (512, 512, 3), dtype='uint8')\n",
    "cv.imshow('Black image with 3 channels', black_img_3)\n",
    "\n",
    "cv.waitKey(0)\n",
    "cv.destroyAllWindows()\n",
    "\n",
    "cv.rectangle(black_img, (50, 50), (100, 100), (100), 5)\n",
    "cv.imshow('Black image (gray-scale)', black_img)\n",
    "\n",
    "cv.rectangle(black_img_3, (50, 50), (100, 100), (255,0,0), 5)\n",
    "cv.imshow('Black image with 3 channels', black_img_3)\n",
    "\n",
    "cv.waitKey(0)\n",
    "cv.destroyAllWindows()"
   ]
  },
  {
   "cell_type": "markdown",
   "metadata": {},
   "source": [
    "## Circle\n",
    "\n",
    "### cv2.circle(image, center, radius, color, thickness)\n",
    "\n",
    "- image : it is the image to be drawn on.\n",
    "- center : it is a tuple denoting the center of circle.\n",
    "- radius : it is the radius of circle.\n",
    "- color : it is a tuple denoting the color in BGR or gray-scale format.\n",
    "- thickness : it is the thickness of stroke, negative values denotes fill and positive denote the thickness of stroke."
   ]
  },
  {
   "cell_type": "code",
   "execution_count": 5,
   "metadata": {},
   "outputs": [],
   "source": [
    "black_img = np.zeros(shape = (512, 512), dtype='uint8')\n",
    "cv.imshow('Black image (gray-scale)', black_img)\n",
    "\n",
    "# with 3 channels i.e. BGR image\n",
    "black_img_3 = np.zeros(shape = (512, 512, 3), dtype='uint8')\n",
    "cv.imshow('Black image with 3 channels', black_img_3)\n",
    "\n",
    "cv.waitKey(0)\n",
    "cv.destroyAllWindows()\n",
    "\n",
    "cv.circle(black_img, (256, 256), 100, (100), 5)\n",
    "cv.imshow('Black image (gray-scale)', black_img)\n",
    "\n",
    "cv.circle(black_img_3, (256, 256), 100, (255,0,0), 5)\n",
    "cv.imshow('Black image with 3 channels', black_img_3)\n",
    "\n",
    "cv.waitKey(0)\n",
    "cv.destroyAllWindows()"
   ]
  },
  {
   "cell_type": "markdown",
   "metadata": {},
   "source": [
    "## Polygon\n",
    "\n",
    "### cv2.polylines(image, [pts], isClosed, color, thickness)\n",
    "\n",
    "- image : it is the image to be drawn on.\n",
    "- pts : it is a list of points denoting the vertices of polygon of type 32-bit int.\n",
    "- isClosed : it is a boolean denoting whether the polygon has to be closed or not.\n",
    "- color : it is a tuple denoting the color in BGR or gray-scale format.\n",
    "- thickness : it is the thickness of stroke, negative values denotes fill and positive denote the thickness of stroke."
   ]
  },
  {
   "cell_type": "code",
   "execution_count": 6,
   "metadata": {},
   "outputs": [],
   "source": [
    "black_img = np.zeros(shape = (512, 512), dtype='uint8')\n",
    "cv.imshow('Black image (gray-scale)', black_img)\n",
    "\n",
    "# with 3 channels i.e. BGR image\n",
    "black_img_3 = np.zeros(shape = (512, 512, 3), dtype='uint8')\n",
    "cv.imshow('Black image with 3 channels', black_img_3)\n",
    "\n",
    "cv.waitKey(0)\n",
    "cv.destroyAllWindows()\n",
    "\n",
    "pts = np.array([[25, 70], [25, 160], [110, 200], [200, 160],  [200, 70], [110, 20]], np.int32)\n",
    "\n",
    "cv.polylines(black_img, [pts], True, 110, 5)\n",
    "cv.imshow('Black image (gray-scale)', black_img)\n",
    "\n",
    "cv.polylines(black_img_3, [pts], True, (255,0,0), 5)\n",
    "cv.imshow('Black image with 3 channels', black_img_3)\n",
    "\n",
    "cv.waitKey(0)\n",
    "cv.destroyAllWindows()"
   ]
  },
  {
   "cell_type": "markdown",
   "metadata": {},
   "source": [
    "## Ellipse\n",
    "\n",
    "### cv2.ellipse(image, centerCoordinates, axesLength, angle, startAngle, endAngle, color , thickness)\n",
    "\n",
    "- image: It is the image on which ellipse is to be drawn.\n",
    "- centerCoordinates: It is the center coordinates of ellipse. The coordinates are represented as tuples of two values i.e. (X coordinate value, Y coordinate value).\n",
    "- axesLength: It contains tuple of two variables containing major and minor axis of ellipse (major axis length, minor axis length).\n",
    "- angle: Ellipse rotation angle in degrees.\n",
    "- startAngle: Starting angle of the elliptic arc in degrees.\n",
    "- endAngle: Ending angle of the elliptic arc in degrees.\n",
    "- color: It is the color of border line of shape to be drawn. For BGR, we pass a tuple. eg: (255, 0, 0) for blue color.\n",
    "- thickness: It is the thickness of the shape border line in px. Thickness of -1 px will fill the shape by the specified color."
   ]
  },
  {
   "cell_type": "code",
   "execution_count": 7,
   "metadata": {},
   "outputs": [],
   "source": [
    "black_img = np.zeros(shape = (512, 512), dtype='uint8')\n",
    "cv.imshow('Black image (gray-scale)', black_img)\n",
    "\n",
    "# with 3 channels i.e. BGR image\n",
    "black_img_3 = np.zeros(shape = (512, 512, 3), dtype='uint8')\n",
    "cv.imshow('Black image with 3 channels', black_img_3)\n",
    "\n",
    "cv.waitKey(0)\n",
    "cv.destroyAllWindows()\n",
    "\n",
    "ellipse = cv.ellipse(black_img, (256, 256), (100, 50), 0, 0 , 360, 100, -1)\n",
    "cv.imshow('Black image with 3 channels', ellipse)\n",
    "\n",
    "cv.waitKey(0)\n",
    "cv.destroyAllWindows()"
   ]
  },
  {
   "cell_type": "markdown",
   "metadata": {},
   "source": [
    "# Add text on image\n",
    "\n",
    "### cv2.putText(image, 'text to display', bottom left cordinates, fontType, fontSize, color, thickness)\n",
    "\n",
    "- image : it is the image to be drawn on.\n",
    "- bottom left cordinates : it is the coordinates of the bottom-left corner of the text string in the image.\n",
    "- fontType : it is the font face.\n",
    "- fontSize : it is the size of font.\n",
    "- color : it is a tuple denoting the color in BGR or gray-scale format.\n",
    "- thickness : it is the thickness of stroke, negative values denotes fill and positive denote the thickness of stroke.\n",
    "\n",
    "### All fontTypes available in OpenCV:\n",
    "\n",
    "- cv2.FONT_HERSHEY_SIMPLEX\n",
    "- cv2.FONT_HERSHEY_PLAIN\n",
    "- cv2.FONT_HERSHEY_DUPLEX\n",
    "- cv2.FONT_HERSHEY_COMPLEX\n",
    "- cv2.FONT_HERSHEY_TRIPLEX\n",
    "- cv2.FONT_HERSHEY_COMPLEX_SMALL\n",
    "- cv2.FONT_HERSHEY_SCRIPT_SIMPLEX\n",
    "- cv2.FONT_HERSHEY_SCRIPT_COMPLEX\n"
   ]
  },
  {
   "cell_type": "code",
   "execution_count": 8,
   "metadata": {},
   "outputs": [],
   "source": [
    "cv.putText(black_img, 'Hello world!', (50, 50), cv.FONT_HERSHEY_SIMPLEX, 2, 110, 5)\n",
    "cv.imshow('Black image (gray-scale)', black_img)\n",
    "\n",
    "cv.putText(black_img_3, 'Hello world!', (50, 50), cv.FONT_HERSHEY_SIMPLEX, 2, (255,0,0), 5)\n",
    "cv.imshow('Black image with 3 channels', black_img_3)\n",
    "\n",
    "cv.waitKey(0)\n",
    "cv.destroyAllWindows()"
   ]
  }
 ],
 "metadata": {
  "kernelspec": {
   "display_name": "Python 3",
   "language": "python",
   "name": "python3"
  },
  "language_info": {
   "codemirror_mode": {
    "name": "ipython",
    "version": 3
   },
   "file_extension": ".py",
   "mimetype": "text/x-python",
   "name": "python",
   "nbconvert_exporter": "python",
   "pygments_lexer": "ipython3",
   "version": "3.7.6"
  }
 },
 "nbformat": 4,
 "nbformat_minor": 4
}
