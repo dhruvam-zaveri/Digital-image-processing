{
 "cells": [
  {
   "cell_type": "markdown",
   "metadata": {},
   "source": [
    "# Import section"
   ]
  },
  {
   "cell_type": "code",
   "execution_count": 1,
   "metadata": {},
   "outputs": [],
   "source": [
    "import cv2 as cv\n",
    "import numpy as np\n",
    "import matplotlib.pyplot as plt"
   ]
  },
  {
   "cell_type": "markdown",
   "metadata": {},
   "source": [
    "# Reading image"
   ]
  },
  {
   "cell_type": "markdown",
   "metadata": {},
   "source": [
    "## RGB image"
   ]
  },
  {
   "cell_type": "markdown",
   "metadata": {},
   "source": [
    "### We know that RGB images are made of 3 colors (red, green and blue)\n",
    "\n",
    "### When we read a RGB image we are storing the values of all the 3 channel for each pixel. Therefore to store information about a single pixel we will be using a list of 3 values to store the channel values and to store information of all the pixels in the image we will be using a 2D numpy array.\n",
    "\n",
    "### So a single image is represented as a 2D numpy array of list\n",
    "\n",
    "### The first value from img.shape is height, second is width and 3rd is number of channels"
   ]
  },
  {
   "cell_type": "code",
   "execution_count": 2,
   "metadata": {},
   "outputs": [
    {
     "name": "stdout",
     "output_type": "stream",
     "text": [
      "Size of the image represented as nparray: (593, 626, 3)\n",
      "How single pixel is represented: [154 131 115]\n",
      "How entire image is represented: \n",
      "[[[154 131 115]\n",
      "  [155 132 116]\n",
      "  [155 132 116]\n",
      "  ...\n",
      "  [139 108  85]\n",
      "  [138 107  84]\n",
      "  [138 107  84]]\n",
      "\n",
      " [[155 132 116]\n",
      "  [155 132 116]\n",
      "  [156 133 117]\n",
      "  ...\n",
      "  [139 108  85]\n",
      "  [138 107  84]\n",
      "  [138 107  84]]\n",
      "\n",
      " [[156 133 117]\n",
      "  [156 133 117]\n",
      "  [157 134 118]\n",
      "  ...\n",
      "  [138 107  84]\n",
      "  [137 106  83]\n",
      "  [137 106  83]]\n",
      "\n",
      " ...\n",
      "\n",
      " [[  4 162 246]\n",
      "  [  2 162 246]\n",
      "  [  5 163 247]\n",
      "  ...\n",
      "  [ 38  52  64]\n",
      "  [ 34  46  56]\n",
      "  [ 36  46  56]]\n",
      "\n",
      " [[  3 164 246]\n",
      "  [  3 164 246]\n",
      "  [  4 165 247]\n",
      "  ...\n",
      "  [ 36  48  58]\n",
      "  [ 40  49  59]\n",
      "  [ 42  49  58]]\n",
      "\n",
      " [[  7 169 251]\n",
      "  [  7 169 251]\n",
      "  [  7 169 251]\n",
      "  ...\n",
      "  [ 36  47  51]\n",
      "  [ 36  47  51]\n",
      "  [ 36  47  51]]]\n"
     ]
    }
   ],
   "source": [
    "img = cv.imread('image.jpg')\n",
    "print(f'Size of the image represented as nparray: {img.shape}')\n",
    "print(f'How single pixel is represented: {img[0, 0]}')\n",
    "print(f'How entire image is represented: \\n{img}')"
   ]
  },
  {
   "cell_type": "markdown",
   "metadata": {},
   "source": [
    "## Gray images"
   ]
  },
  {
   "cell_type": "markdown",
   "metadata": {},
   "source": [
    "### When we read black and white images we are in turn reading gray images as per to computer's understanding.\n",
    "\n",
    "### Gray images do not have 3 channels like RGB, they only have 1 channel which denotes the intensity level of gray i.e. 0 being black and 255 being white."
   ]
  },
  {
   "cell_type": "code",
   "execution_count": 3,
   "metadata": {},
   "outputs": [
    {
     "name": "stdout",
     "output_type": "stream",
     "text": [
      "Size of the image represented as nparray: (593, 626)\n",
      "How single pixel is represented: 129\n",
      "How entire image is represented: \n",
      "[[129 130 130 ... 105 104 104]\n",
      " [130 130 131 ... 105 104 104]\n",
      " [131 131 132 ... 104 103 103]\n",
      " ...\n",
      " [169 169 170 ...  54  48  48]\n",
      " [170 170 171 ...  50  51  51]\n",
      " [175 175 175 ...  47  47  47]]\n"
     ]
    }
   ],
   "source": [
    "bw_img = cv.cvtColor(img, cv.COLOR_BGR2GRAY)\n",
    "print(f'Size of the image represented as nparray: {bw_img.shape}')\n",
    "print(f'How single pixel is represented: {bw_img[0, 0]}')\n",
    "print(f'How entire image is represented: \\n{bw_img}')"
   ]
  },
  {
   "cell_type": "markdown",
   "metadata": {},
   "source": [
    "# Displaying image"
   ]
  },
  {
   "cell_type": "code",
   "execution_count": 4,
   "metadata": {},
   "outputs": [],
   "source": [
    "cv.imshow('image',img)\n",
    "cv.waitKey()\n",
    "cv.destroyAllWindows()"
   ]
  },
  {
   "cell_type": "markdown",
   "metadata": {},
   "source": [
    "# Color spaces"
   ]
  },
  {
   "cell_type": "markdown",
   "metadata": {},
   "source": [
    "### RGB/BGR: red, green and blue\n",
    "### HSV/HSL: hue, saturation and value/luminocity\n",
    "### GRAY: gray image (black and white)"
   ]
  },
  {
   "cell_type": "code",
   "execution_count": 5,
   "metadata": {},
   "outputs": [],
   "source": [
    "# for RGB to HSV and Gray conversion\n",
    "hsv_img = cv.cvtColor(img, cv.COLOR_BGR2HSV)               \n",
    "cv.imshow('HSV image',hsv_img)\n",
    "cv.waitKey()\n",
    "cv.destroyAllWindows()\n",
    "\n",
    "gray_img = cv.cvtColor(img, cv.COLOR_BGR2GRAY)\n",
    "cv.imshow('Gray image',gray_img)\n",
    "cv.waitKey()\n",
    "cv.destroyAllWindows()"
   ]
  },
  {
   "cell_type": "code",
   "execution_count": 6,
   "metadata": {},
   "outputs": [
    {
     "name": "stdout",
     "output_type": "stream",
     "text": [
      "(593, 626, 3)\n",
      "[129 129 129]\n"
     ]
    }
   ],
   "source": [
    "# for HSV or Gray to RGB conversion\n",
    "hsv_rev = cv.cvtColor(hsv_img, cv.COLOR_HSV2BGR)\n",
    "cv.imshow('HSV to RGB image',hsv_rev)\n",
    "cv.waitKey()\n",
    "cv.destroyAllWindows()\n",
    "\n",
    "gray_rev = cv.cvtColor(gray_img, cv.COLOR_GRAY2BGR)\n",
    "cv.imshow('Gray to RGB image',gray_rev)\n",
    "cv.waitKey()\n",
    "cv.destroyAllWindows()\n",
    "\n",
    "# by doing this conversion we won't be able to see color differnce between Gray and converted image as the cvtColor()\n",
    "# function will create 3 channels but will subsiquently copy the gray intensity in each channel. we can see this by\n",
    "# inspecting any individual pixel\n",
    "print(gray_rev.shape)\n",
    "print(gray_rev[0, 0])"
   ]
  },
  {
   "cell_type": "markdown",
   "metadata": {},
   "source": [
    "# Channel splitting"
   ]
  },
  {
   "cell_type": "markdown",
   "metadata": {},
   "source": [
    "## RBG channel splitting"
   ]
  },
  {
   "cell_type": "code",
   "execution_count": 7,
   "metadata": {},
   "outputs": [
    {
     "name": "stdout",
     "output_type": "stream",
     "text": [
      "Size of B channel: (593, 626)\n",
      "Size of R channel: (593, 626)\n",
      "Size of G channel: (593, 626)\n"
     ]
    }
   ],
   "source": [
    "b_channel, g_channel, r_channel = cv.split(img)\n",
    "print(f'Size of B channel: {b_channel.shape}')\n",
    "print(f'Size of R channel: {r_channel.shape}')\n",
    "print(f'Size of G channel: {g_channel.shape}')\n",
    "\n",
    "cv.imshow('Red channel',r_channel)\n",
    "cv.imshow('Blue channel',b_channel)\n",
    "cv.imshow('Green channel',g_channel)\n",
    "cv.waitKey(0)\n",
    "cv.destroyAllWindows()\n",
    "\n",
    "# now we can see the images are displayed as grayscale images, this is because when we split the channels of an image we\n",
    "# are essentially getting an image with single channel and a single channel image is considered as grayscale image, the \n",
    "# the value of each channel is preserved, we can check this by recombining the channels\n",
    "\n",
    "# in cv.merge() function we need to pass a list of channel values i.e. list of list and the order of the list must be in\n",
    "# B - G - R \n",
    "\n",
    "merge_img = cv.merge([b_channel, g_channel, r_channel])\n",
    "cv.imshow('Merged image', merge_img)\n",
    "cv.waitKey(0)\n",
    "cv.destroyAllWindows()"
   ]
  },
  {
   "cell_type": "markdown",
   "metadata": {},
   "source": [
    "## Enhancing particular channel(s) of an image"
   ]
  },
  {
   "cell_type": "markdown",
   "metadata": {},
   "source": [
    "### The value we are adding with the channel should be <= 255, because that is the maximum pixel intensity value"
   ]
  },
  {
   "cell_type": "code",
   "execution_count": 8,
   "metadata": {},
   "outputs": [],
   "source": [
    "enhanced_img = cv.merge([b_channel, g_channel + 50, r_channel])\n",
    "cv.imshow('Green enhanced image', enhanced_img)\n",
    "cv.waitKey(0)\n",
    "cv.destroyAllWindows()"
   ]
  },
  {
   "cell_type": "markdown",
   "metadata": {},
   "source": [
    "### To truely create split a channel from an image we can create a np array of zeros and merge it with channel which will make each pixel value as [0, 0, r_value] or [0, g_value, 0] or [b_value, 0, 0].\n",
    "\n",
    "### In the cv.split() function we were getting only a single value from the pixel i.e. other channels were discarded and this was the reason due to which the channel images were displayed in grayscale.\n",
    "\n",
    "### But by merging each channel indiviually with an array of zerors we are preserving the other 2 channels also and displaying only the specifed channel.\n",
    "\n",
    "### Make sure to add dtype parameter in np.zeros() function because by default it creates an array of float i.e. 0.0, we need array to be of type int as the splitted channel will be of int type."
   ]
  },
  {
   "cell_type": "code",
   "execution_count": 9,
   "metadata": {},
   "outputs": [],
   "source": [
    "zero_arr = np.zeros(img.shape[:2], dtype = 'uint8')\n",
    "\n",
    "b_channel = cv.merge([zero_arr, zero_arr, b_channel])\n",
    "g_channel = cv.merge([zero_arr, g_channel, zero_arr])\n",
    "r_channel = cv.merge([r_channel, zero_arr, zero_arr]) \n",
    "\n",
    "cv.imshow('Red channel',r_channel)\n",
    "cv.imshow('Blue channel',b_channel)\n",
    "cv.imshow('Green channel',g_channel)\n",
    "cv.waitKey(0)\n",
    "cv.destroyAllWindows()"
   ]
  },
  {
   "cell_type": "markdown",
   "metadata": {},
   "source": [
    "## HSV channel splitting"
   ]
  },
  {
   "cell_type": "code",
   "execution_count": 10,
   "metadata": {},
   "outputs": [],
   "source": [
    "h_channel = hsv_img[:,:, 0]\n",
    "s_channel = hsv_img[:,:, 1]\n",
    "v_channel = hsv_img[:,:, 2]\n",
    "\n",
    "cv.imshow('Hue channel',h_channel)\n",
    "cv.imshow('Saturartion channel',s_channel)\n",
    "cv.imshow('Value channel',v_channel)\n",
    "cv.waitKey(0)\n",
    "cv.destroyAllWindows()"
   ]
  },
  {
   "cell_type": "markdown",
   "metadata": {},
   "source": [
    "# Histogram representation"
   ]
  },
  {
   "cell_type": "markdown",
   "metadata": {},
   "source": [
    "## Histograms are a great way to visualise individual color components\n",
    "\n",
    "### Method 1 : plt.hist(image, bins, range)\n",
    "- image : it is the source image for which the histogram has to be plotted, the image should be of 1-dimension i.e. it should be flattened, it can be done by np.flatten() .\n",
    "- bins : histograms are plotted in form of bins, values on x-axis in a histogram are plotted in form of bars. Bins are the no. of bars which are to be plotted. In our image we have values ranging from 0 to 255 i.e. 256 values, by providing bins we can group certain range of values, if we give 16 as bins value then there will be 16 distinct bars and each bar will correspond to a combination of 16 values i.e. [0, 15] or [16, 31] or [32, 47] ... [240, 255]. \n",
    "<br><br><br>\n",
    "<center>Value of each bin = $\\frac{\\text{highest  bound of range}} {\\text{total no. of bins}}$ </center>\n",
    "<br><br>\n",
    "- range : it specifies the range of values to be plotted in the histogram, for our a 8-bit image range will be [0, 256] (values from 0 to 255 will be considered here, excluding 256). \n",
    "\n",
    "### Method 2 : cv2.calcHist(images, channels, mask, histSize, ranges[, hist[, accumulate]])\n",
    "- images : it is the source image of type uint8 or float32 represented as “[img]”.\n",
    "- channels : it is the index of channel for which we calculate histogram. For grayscale image, its value is [0] and color image, you can pass [0], [1] or [2] to calculate histogram of blue, green or red channel respectively.\n",
    "- mask : mask image. To find histogram of full image, it is given as “None”.\n",
    "- histSize : this represents our BIN count. For full scale, we pass [256].\n",
    "- ranges : this is our RANGE. Normally, it is [0,256]."
   ]
  },
  {
   "cell_type": "code",
   "execution_count": 11,
   "metadata": {},
   "outputs": [
    {
     "name": "stdout",
     "output_type": "stream",
     "text": [
      "using matplotlib\n"
     ]
    },
    {
     "data": {
      "image/png": "[encoded data removed]",
      "text/plain": [
       "<Figure size 432x288 with 1 Axes>"
      ]
     },
     "metadata": {
      "needs_background": "light"
     },
     "output_type": "display_data"
    },
    {
     "name": "stdout",
     "output_type": "stream",
     "text": [
      "using OpenCV\n"
     ]
    },
    {
     "data": {
      "image/png": "[encoded data removed]",
      "text/plain": [
       "<Figure size 432x288 with 1 Axes>"
      ]
     },
     "metadata": {
      "needs_background": "light"
     },
     "output_type": "display_data"
    },
    {
     "data": {
      "image/png": "[encoded data removed]",
      "text/plain": [
       "<Figure size 432x288 with 1 Axes>"
      ]
     },
     "metadata": {
      "needs_background": "light"
     },
     "output_type": "display_data"
    }
   ],
   "source": [
    "img = cv.imread('image.jpg')\n",
    "\n",
    "color = ('b', 'g', 'r')\n",
    "# method 1: using matplotlib \n",
    "# the problem with this method is that it plota histogram for only the blue channel, because it is the first channel and\n",
    "# the rest are ignored\n",
    "print('using matplotlib')\n",
    "plt.hist(img.flatten(), 256,[0,256])\n",
    "plt.show()\n",
    "\n",
    "# method 2: using OpenCV\n",
    "# this is for a single channel\n",
    "print('using OpenCV')\n",
    "histogram = cv.calcHist([img], [0], None, [256], [0, 256])\n",
    "plt.plot(histogram)\n",
    "plt.show()\n",
    "\n",
    "# ploting histogram for all channel in a single plot\n",
    "for i,col in enumerate(color):\n",
    "    histogram = cv.calcHist([img], [i], None, [256], [0, 256])\n",
    "    plt.plot(histogram, color = col)\n",
    "    plt.ylim([0, 60000])\n",
    "    \n",
    "plt.show()"
   ]
  }
 ],
 "metadata": {
  "kernelspec": {
   "display_name": "Python 3",
   "language": "python",
   "name": "python3"
  },
  "language_info": {
   "codemirror_mode": {
    "name": "ipython",
    "version": 3
   },
   "file_extension": ".py",
   "mimetype": "text/x-python",
   "name": "python",
   "nbconvert_exporter": "python",
   "pygments_lexer": "ipython3",
   "version": "3.7.6"
  }
 },
 "nbformat": 4,
 "nbformat_minor": 4
}
